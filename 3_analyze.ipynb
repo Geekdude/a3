{
 "cells": [
  {
   "cell_type": "markdown",
   "metadata": {},
   "source": [
    "# Imports"
   ]
  },
  {
   "cell_type": "code",
   "execution_count": null,
   "metadata": {},
   "outputs": [],
   "source": [
    "import sys\n",
    "import os\n",
    "import datetime\n",
    "import time\n",
    "import random\n",
    "import re\n",
    "import json\n",
    "import csv\n",
    "import pandas as pd\n",
    "import collections\n",
    "import matplotlib.font_manager as font_manager\n",
    "import natsort as ns\n",
    "import networkx as nx\n",
    "import glob\n",
    "\n",
    "import numpy as np\n",
    "import matplotlib as mpl\n",
    "\n",
    "DEFAULT_FIGURE_SIZE = 0.9\n",
    "\n",
    "# Function to calculate figure size in LaTeX document\n",
    "def figsize(scale=DEFAULT_FIGURE_SIZE, extra_width=0.0, extra_height=0.0):\n",
    "    \"\"\"Determine a good size for the figure given a scale.\"\"\"\n",
    "    fig_width_pt = 469.755  # Get this from LaTeX using \\the\\textwidth\n",
    "    inches_per_pt = 1.0 / 72.27  # Convert pt to inch\n",
    "    # Aesthetic ratio (you could change this)\n",
    "    golden_mean = (np.sqrt(5.0) - 1.0) / 2.0\n",
    "    if scale < 0.7:\n",
    "        golden_mean *= 1.2\n",
    "    fig_width = fig_width_pt * inches_per_pt * scale  # width in inches\n",
    "    fig_height = fig_width * golden_mean  # height in inches\n",
    "    fig_size = [fig_width + extra_width, fig_height + extra_height]\n",
    "    return fig_size\n",
    "\n",
    "figcount = 1\n",
    "def figsave(file, include_count=False, data=None):\n",
    "    global figcount\n",
    "    if not os.path.exists('figures'):\n",
    "        os.makedirs('figures')\n",
    "    if include_count:\n",
    "        file = f'figures/{figcount:02}_{file}'\n",
    "        figcount += 1\n",
    "    else:\n",
    "        file = f'figures/{file}'\n",
    "    plt.tight_layout()\n",
    "    plt.savefig(file + '.svg')\n",
    "    plt.savefig(file + '.pdf')\n",
    "    if data is not None:\n",
    "        data.to_csv(file + '.csv')\n",
    "        \n",
    "tblcount = 1\n",
    "def tblsave(file, data, include_count=False):\n",
    "    global tblcount\n",
    "    if not os.path.exists('tables'):\n",
    "        os.makedirs('tables')\n",
    "    if include_count:\n",
    "        file = f'tables/{tblcount:02}_{file}.tex'\n",
    "        tblcount += 1\n",
    "    else:\n",
    "        file = f'tables/{file}.tex'\n",
    "    with open(file, 'w') as fp:\n",
    "        fp.write(data.to_latex())\n",
    "\n",
    "# pgf settings for use in LaTeX\n",
    "latex = {  # setup matplotlib to use latex for output\n",
    "    \"font.family\": \"serif\",\n",
    "    # \"axes.labelsize\":  10,\n",
    "    # \"font.size\":       10,\n",
    "    # \"legend.fontsize\": 10,\n",
    "    # \"xtick.labelsize\": 8,\n",
    "    # \"ytick.labelsize\": 8,\n",
    "}\n",
    "mpl.rcParams.update(latex)\n",
    "# print(mpl.rcParams.find_all)\n",
    "import matplotlib.pyplot as plt\n",
    "import math\n",
    "import seaborn as sns\n",
    "\n",
    "from tabulate import tabulate\n",
    "pd.options.display.max_columns = None\n",
    "pd.options.display.max_rows = None\n",
    "\n",
    "title_size = 16\n",
    "\n",
    "# %matplotlib inline\n",
    "# %matplotlib notebook"
   ]
  },
  {
   "cell_type": "markdown",
   "metadata": {},
   "source": [
    "# Read in Data"
   ]
  }
 ],
 "metadata": {
  "hide_input": false,
  "kernelspec": {
   "display_name": "Python 3",
   "language": "python",
   "name": "python3"
  },
  "language_info": {
   "codemirror_mode": {
    "name": "ipython",
    "version": 3
   },
   "file_extension": ".py",
   "mimetype": "text/x-python",
   "name": "python",
   "nbconvert_exporter": "python",
   "pygments_lexer": "ipython3",
   "version": "3.9.1"
  },
  "toc": {
   "base_numbering": 1,
   "nav_menu": {
    "height": "139px",
    "width": "310px"
   },
   "number_sections": true,
   "sideBar": true,
   "skip_h1_title": false,
   "title_cell": "Table of Contents",
   "title_sidebar": "Contents",
   "toc_cell": false,
   "toc_position": {
    "height": "calc(100% - 180px)",
    "left": "10px",
    "top": "150px",
    "width": "358px"
   },
   "toc_section_display": true,
   "toc_window_display": false
  },
  "toc-autonumbering": true,
  "toc-showmarkdowntxt": false
 },
 "nbformat": 4,
 "nbformat_minor": 4
}